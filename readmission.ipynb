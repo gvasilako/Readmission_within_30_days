{
  "nbformat": 4,
  "nbformat_minor": 0,
  "metadata": {
    "colab": {
      "name": "project2_1.ipynb",
      "version": "0.3.2",
      "provenance": [],
      "collapsed_sections": []
    },
    "kernelspec": {
      "name": "python3",
      "display_name": "Python 3"
    }
  },
  "cells": [
    {
      "metadata": {
        "id": "GSWVMVNC_989",
        "colab_type": "text"
      },
      "cell_type": "markdown",
      "source": [
        "# Predict readmission within 30 days of discharge\n",
        "\n",
        "In this notebook we battled the binary classification problem of trying to predict a readmission or not of patients within 30 days of discharge.\n"
      ]
    },
    {
      "metadata": {
        "id": "7Y2qITwa_E7c",
        "colab_type": "code",
        "colab": {}
      },
      "cell_type": "code",
      "source": [
        "import numpy as np\n",
        "import pandas as pd\n",
        "import xgboost as xgb\n",
        "import matplotlib.pyplot as plt\n",
        "%matplotlib inline"
      ],
      "execution_count": 0,
      "outputs": []
    },
    {
      "metadata": {
        "id": "mf70kTw9AipQ",
        "colab_type": "code",
        "colab": {}
      },
      "cell_type": "code",
      "source": [
        "# upload data to google drive and enter the file path\n",
        "\n",
        "base_folder = '/gdrive/My Drive/Colab Notebooks/ML4HC/project2/data/10k_diabetes/'\n",
        "\n",
        "def read_file(base_folder, filename):\n",
        "    df = pd.read_csv(base_folder + filename)\n",
        "    labels = df['readmitted'].values\n",
        "    df.drop('readmitted', axis=1, inplace=True)\n",
        "    df.replace('?',np.nan,inplace=True)\n",
        "    return df, labels"
      ],
      "execution_count": 0,
      "outputs": []
    },
    {
      "metadata": {
        "id": "KwbqqW57hSYo",
        "colab_type": "code",
        "colab": {}
      },
      "cell_type": "code",
      "source": [
        "# read datasets\n",
        "\n",
        "df_train, y_train = read_file(base_folder, 'diab_train.csv')\n",
        "df_val, y_val = read_file(base_folder, 'diab_validation.csv')\n",
        "df_test, y_test = read_file(base_folder, 'diab_test.csv')"
      ],
      "execution_count": 0,
      "outputs": []
    },
    {
      "metadata": {
        "id": "9Y9LcwerBrcY",
        "colab_type": "code",
        "outputId": "b6a20a24-a021-4438-e3ae-6c762f6163b8",
        "colab": {
          "base_uri": "https://localhost:8080/",
          "height": 90
        }
      },
      "cell_type": "code",
      "source": [
        "print(df_train.shape)\n",
        "print(df_train.dtypes.value_counts())"
      ],
      "execution_count": 0,
      "outputs": [
        {
          "output_type": "stream",
          "text": [
            "(6000, 51)\n",
            "object    42\n",
            "int64      9\n",
            "dtype: int64\n"
          ],
          "name": "stdout"
        }
      ]
    },
    {
      "metadata": {
        "id": "1t7uQCRva5PH",
        "colab_type": "text"
      },
      "cell_type": "markdown",
      "source": [
        "## Data Visualization"
      ]
    },
    {
      "metadata": {
        "id": "hEzpgXSPWGEj",
        "colab_type": "code",
        "colab": {}
      },
      "cell_type": "code",
      "source": [
        "import seaborn as sns\n",
        "from matplotlib import gridspec"
      ],
      "execution_count": 0,
      "outputs": []
    },
    {
      "metadata": {
        "id": "vRdeLVxzYPii",
        "colab_type": "code",
        "outputId": "cb71a949-f778-444e-ae3c-20dc6cc0109e",
        "colab": {
          "base_uri": "https://localhost:8080/",
          "height": 482
        }
      },
      "cell_type": "code",
      "source": [
        "gs = gridspec.GridSpec(1, 3, width_ratios=[1, 1.5,1.5])\n",
        "sns.set_palette([\"#95a5a6\", \"#e74c3c\"])\n",
        "fig = plt.figure(figsize=(20, 6))\n",
        "plt.subplot(gs[0])\n",
        "sns.countplot(x='gender',data=df_train,hue=y_train,orient='v')\n",
        "plt.legend(['Not Readmision','Readmission'])\n",
        "plt.subplot(gs[1])\n",
        "sns.countplot(x='age',data=df_train,hue=y_train,orient='v',order=sorted(df_train['age'].unique()))\n",
        "plt.legend(['Not Readmision','Readmission'])\n",
        "plt.subplot(gs[2])\n",
        "sns.countplot(x='race',data=df_train,hue=y_train,orient='v',order=['AfricanAmerican','Asian', 'Caucasian','Hispanic','Other'])\n",
        "fig.suptitle(\"Inherent Trends\",fontsize=20)\n",
        "plt.legend(['Not Readmision','Readmission'])"
      ],
      "execution_count": 0,
      "outputs": [
        {
          "output_type": "stream",
          "text": [
            "/usr/local/lib/python3.6/dist-packages/seaborn/categorical.py:1468: FutureWarning: remove_na is deprecated and is a private function. Do not use.\n",
            "  stat_data = remove_na(group_data[hue_mask])\n"
          ],
          "name": "stderr"
        },
        {
          "output_type": "execute_result",
          "data": {
            "text/plain": [
              "<matplotlib.legend.Legend at 0x7f23c4719c18>"
            ]
          },
          "metadata": {
            "tags": []
          },
          "execution_count": 6
        },
        {
          "output_type": "display_data",
          "data": {
            "image/png": "[encoded data removed]",
            "text/plain": [
              "<Figure size 1440x432 with 3 Axes>"
            ]
          },
          "metadata": {
            "tags": []
          }
        }
      ]
    },
    {
      "metadata": {
        "id": "Nu2UhBrbmcsB",
        "colab_type": "code",
        "outputId": "a12e7e15-45ab-4e78-8473-88b605448ecd",
        "colab": {
          "base_uri": "https://localhost:8080/",
          "height": 456
        }
      },
      "cell_type": "code",
      "source": [
        "gs = gridspec.GridSpec(1, 3, width_ratios=[1, 1,1])\n",
        "fig = plt.figure(figsize=(20, 6))\n",
        "plt.subplot(gs[0])\n",
        "sns.distplot(df_train.loc[y_train==1]['time_in_hospital'],color='r',label='Readmission')\n",
        "sns.distplot(df_train.loc[y_train==0]['time_in_hospital'],color='0',label='Not Readmission')\n",
        "plt.legend()\n",
        "plt.subplot(gs[1])\n",
        "sns.distplot(df_train.loc[y_train==1]['num_medications'],color='r',label='Readmission')\n",
        "sns.distplot(df_train.loc[y_train==0]['num_medications'],color='0',label='Not Readmission')\n",
        "plt.legend()\n",
        "plt.subplot(gs[2])\n",
        "sns.distplot(df_train.loc[y_train==1]['num_lab_procedures'],color='r',label='Readmission')\n",
        "sns.distplot(df_train.loc[y_train==0]['num_lab_procedures'],color='0',label='Not Readmission')\n",
        "plt.legend()\n"
      ],
      "execution_count": 0,
      "outputs": [
        {
          "output_type": "stream",
          "text": [
            "/usr/local/lib/python3.6/dist-packages/matplotlib/axes/_axes.py:6521: MatplotlibDeprecationWarning: \n",
            "The 'normed' kwarg was deprecated in Matplotlib 2.1 and will be removed in 3.1. Use 'density' instead.\n",
            "  alternative=\"'density'\", removal=\"3.1\")\n"
          ],
          "name": "stderr"
        },
        {
          "output_type": "execute_result",
          "data": {
            "text/plain": [
              "<matplotlib.legend.Legend at 0x7f23bdfebb00>"
            ]
          },
          "metadata": {
            "tags": []
          },
          "execution_count": 23
        },
        {
          "output_type": "display_data",
          "data": {
            "image/png": "[encoded data removed]",
            "text/plain": [
              "<Figure size 1440x432 with 3 Axes>"
            ]
          },
          "metadata": {
            "tags": []
          }
        }
      ]
    },
    {
      "metadata": {
        "id": "GhuoLauUf0Yu",
        "colab_type": "text"
      },
      "cell_type": "markdown",
      "source": [
        "The most challenging task for this project was to properly preprocess the available dataset. \n",
        "For this goal, at first , irrelevant or those with many missing values features disrecarded from the training process.\n",
        "Then, the remaing ones are cleaned (i.e filling missing values) and categorical features are encoded appropriately. Finally, various algorithms are implemented in order to reach the best result in terms of the desirable metrics."
      ]
    },
    {
      "metadata": {
        "id": "eVFK3FRQEKQh",
        "colab_type": "text"
      },
      "cell_type": "markdown",
      "source": [
        "## Data statistics"
      ]
    },
    {
      "metadata": {
        "id": "ikZdqhlqdNiu",
        "colab_type": "code",
        "outputId": "0efaf6ab-2d13-4337-d9d3-42f7f83c1ac9",
        "colab": {
          "base_uri": "https://localhost:8080/",
          "height": 217
        }
      },
      "cell_type": "code",
      "source": [
        "# Print the columns with the most amount of unkown values\n",
        "\n",
        "df_train.isnull().apply(sum, axis=0).sort_values(ascending=False).head(10)"
      ],
      "execution_count": 0,
      "outputs": [
        {
          "output_type": "execute_result",
          "data": {
            "text/plain": [
              "weight                      5757\n",
              "payer_code                  3211\n",
              "medical_specialty           2440\n",
              "admission_source_id          551\n",
              "admission_type_id            416\n",
              "discharge_disposition_id     283\n",
              "race                         124\n",
              "diag_3_desc                  122\n",
              "diag_3                       122\n",
              "diag_2                        34\n",
              "dtype: int64"
            ]
          },
          "metadata": {
            "tags": []
          },
          "execution_count": 15
        }
      ]
    },
    {
      "metadata": {
        "id": "ve0BG5gqVljU",
        "colab_type": "text"
      },
      "cell_type": "markdown",
      "source": [
        "We chose to drop features with missing values for more than 33 % of the cases. As the total dataset has a size of 6000, this corresponds to the columns 'weight', 'payer_code' and 'medical_specialty'. We are also dropping columns that do not change across the dataset. We can expect no correlation to be learned from our algorithms for theses faetures fro the train dataset."
      ]
    },
    {
      "metadata": {
        "id": "_atA3pKge1AM",
        "colab_type": "code",
        "outputId": "6927e0c9-74f7-4430-9555-8f21b82c71da",
        "colab": {
          "base_uri": "https://localhost:8080/",
          "height": 55
        }
      },
      "cell_type": "code",
      "source": [
        "# drop features with same values along patients or many missing values \n",
        "# also drop Unnamed 0 wchich is the patient's name \n",
        "\n",
        "feat_to_drop = df_train.nunique() == 1\n",
        "dropping_features = list(df_train.columns[feat_to_drop]) + ['Unnamed: 0', 'weight', 'payer_code', 'medical_specialty']\n",
        "\n",
        "print('features to drop:', dropping_features)"
      ],
      "execution_count": 0,
      "outputs": [
        {
          "output_type": "stream",
          "text": [
            "features to drop: ['acetohexamide', 'troglitazone', 'examide', 'citoglipton', 'glipizide.metformin', 'glimepiride.pioglitazone', 'metformin.rosiglitazone', 'metformin.pioglitazone', 'Unnamed: 0', 'weight', 'payer_code', 'medical_specialty']\n"
          ],
          "name": "stdout"
        }
      ]
    },
    {
      "metadata": {
        "id": "NyUkLCNmkbNd",
        "colab_type": "text"
      },
      "cell_type": "markdown",
      "source": [
        "### Preprocessing of the dataset\n",
        "\n",
        "We will use the descriptions of each attribute according to Impact of HbA1c Measurement on Hospital Readmission Rates: Analysis of 70,000 Clinical Database Patient Records by Beata Strack et al (these descriptions can be found here https://www.hindawi.com/journals/bmri/2014/781670/tab1/ ."
      ]
    },
    {
      "metadata": {
        "id": "BxEeRnrIe5aU",
        "colab_type": "code",
        "outputId": "e4562ed5-2b12-465a-876c-e76dc221eca2",
        "colab": {
          "base_uri": "https://localhost:8080/",
          "height": 290
        }
      },
      "cell_type": "code",
      "source": [
        "print(df_train.columns)"
      ],
      "execution_count": 0,
      "outputs": [
        {
          "output_type": "stream",
          "text": [
            "Index(['Unnamed: 0', 'race', 'gender', 'age', 'weight', 'admission_type_id',\n",
            "       'discharge_disposition_id', 'admission_source_id', 'time_in_hospital',\n",
            "       'payer_code', 'medical_specialty', 'num_lab_procedures',\n",
            "       'num_procedures', 'num_medications', 'number_outpatient',\n",
            "       'number_emergency', 'number_inpatient', 'diag_1', 'diag_2', 'diag_3',\n",
            "       'number_diagnoses', 'max_glu_serum', 'A1Cresult', 'metformin',\n",
            "       'repaglinide', 'nateglinide', 'chlorpropamide', 'glimepiride',\n",
            "       'acetohexamide', 'glipizide', 'glyburide', 'tolbutamide',\n",
            "       'pioglitazone', 'rosiglitazone', 'acarbose', 'miglitol', 'troglitazone',\n",
            "       'tolazamide', 'examide', 'citoglipton', 'insulin',\n",
            "       'glyburide.metformin', 'glipizide.metformin',\n",
            "       'glimepiride.pioglitazone', 'metformin.rosiglitazone',\n",
            "       'metformin.pioglitazone', 'change', 'diabetesMed', 'diag_1_desc',\n",
            "       'diag_2_desc', 'diag_3_desc'],\n",
            "      dtype='object')\n"
          ],
          "name": "stdout"
        }
      ]
    },
    {
      "metadata": {
        "id": "0IDpb9FBWcaX",
        "colab_type": "text"
      },
      "cell_type": "markdown",
      "source": [
        "Next we encode categorical features appropriately. Many measurements are encoded in a discretized (binned) way, for instance (>7, >8) instead of actual measured values. This may produce problems depending on the algorithm we choose for the next steps. We therefore, preprocess this data to bring them to the desired form. This preprocessing may seem arbitraty at points, but was the results of common sense.\n",
        "\n",
        "We should mention that we experimented a lot for this section with both the values set for the features but also the features themselves. We tried encoding some of the categorical features with an one hot encoding scheme. As the results attained were not better than the ones presented here, we decided to ommit them."
      ]
    },
    {
      "metadata": {
        "id": "b62zkCoJe5ee",
        "colab_type": "code",
        "colab": {}
      },
      "cell_type": "code",
      "source": [
        "# Encode Categorical Features\n",
        "\n",
        "from pygrok import Grok\n",
        "\n",
        "def parse_age(age, grok):\n",
        "    grok_match = grok.match(age)\n",
        "    low_age, high_age = int(grok_match['low_age']), int(grok_match['high_age'])\n",
        "    return (low_age + high_age) / 2\n",
        "\n",
        "def parse_max_glu_serum(max_glu_serum):\n",
        "    if max_glu_serum == 'None':\n",
        "        return 0\n",
        "    elif max_glu_serum == 'Norm':\n",
        "        return 100\n",
        "    elif max_glu_serum == '>200':\n",
        "        return 200\n",
        "    elif max_glu_serum == '>300':\n",
        "        return 300\n",
        "    raise Exception('unavailable max_glu_serum option')\n",
        "\n",
        "def parse_A1Cresult(A1Cresult):\n",
        "    if A1Cresult == 'None':\n",
        "        return 0\n",
        "    elif A1Cresult == 'Norm':\n",
        "        return 5\n",
        "    elif A1Cresult == '>7':\n",
        "        return 7\n",
        "    elif A1Cresult == '>8':\n",
        "        return 8\n",
        "    raise Exception('unavailable A1Cresult option')\n",
        "    \n",
        "def parse_change(change):\n",
        "    if change == 'No':\n",
        "        return 0\n",
        "    elif change == 'Ch':\n",
        "        return 1\n",
        "    raise Exception('unavailable change option')\n",
        "    \n",
        "def parse_diabetesMed(diabetesMed):\n",
        "    if diabetesMed == 'No':\n",
        "        return 0\n",
        "    elif diabetesMed == 'Yes':\n",
        "        return 1\n",
        "    raise Exception('unavailable diabetesMed option')\n",
        "\n",
        "def parse_medication(medication):\n",
        "    if medication == 'No':\n",
        "        return -20\n",
        "    elif medication == 'Down':\n",
        "        return 10\n",
        "    elif medication == 'Steady':\n",
        "        return 0\n",
        "    elif medication == 'Up':\n",
        "        return 10\n",
        "    raise Exception('unavailable medication option')\n",
        "\n",
        "pattern_age = '\\[%{INT:low_age}-%{INT:high_age}\\)'\n",
        "grok_age = Grok(pattern_age)\n",
        "\n",
        "\n",
        "#preprocess text data\n",
        "text_feature_list = ['diag_1', 'diag_2', 'diag_3', 'diag_1_desc', 'diag_2_desc', 'diag_3_desc']\n",
        "\n",
        "def get_text_data(df):\n",
        "    features = []\n",
        "\n",
        "    k = 0\n",
        "    for index, row in df.iterrows():\n",
        "        feature = []\n",
        "\n",
        "        # ignore nans\n",
        "        for text_feature in text_feature_list:\n",
        "            if row[text_feature] is not np.nan:\n",
        "                feature.append(row[text_feature])\n",
        "\n",
        "        features.append(\" \".join(feature))\n",
        "\n",
        "    return np.array(features)\n",
        "\n",
        "def preprocess_dataframe(df):\n",
        "    text_features = get_text_data(df)\n",
        "    \n",
        "    # ids play no special role\n",
        "    additional = ['admission_type_id', 'discharge_disposition_id', 'admission_source_id']\n",
        "\n",
        "    df.drop(columns=dropping_features + text_feature_list + additional, inplace=True)\n",
        "\n",
        "    df['age'] = df['age'].map(lambda age: parse_age(age, grok_age))\n",
        "    df['max_glu_serum']= df['max_glu_serum'].map(lambda max_glu_serum: parse_max_glu_serum(max_glu_serum))\n",
        "    df['A1Cresult'] = df['A1Cresult'].map(lambda A1Cresult: parse_A1Cresult(A1Cresult))\n",
        "    df['change'] = df['change'].map(lambda change: parse_change(change))\n",
        "    df['diabetesMed'] = df['diabetesMed'].map(lambda diabetesMed: parse_diabetesMed(diabetesMed))\n",
        "\n",
        "    # as specified in https://www.hindawi.com/journals/bmri/2014/781670/tab1/\n",
        "    medications = [\"metformin\", \"repaglinide\", \"nateglinide\", \"chlorpropamide\", \"glimepiride\", \"acetohexamide\", \"glipizide\",\n",
        "                   \"glyburide\", \"tolbutamide\", \"pioglitazone\", \"rosiglitazone\", \"acarbose\", \"miglitol\", \"troglitazone\", \n",
        "                   \"tolazamide\", \"examide\", \"citoglipton\", \"insulin\", \"glyburide-metformin\", \"glipizide-metformin\", \n",
        "                   \"glimepiride-pioglitazone\", \"metformin-rosiglitazone\", \"metformin-pioglitazone\"]\n",
        "\n",
        "    for medication in medications:\n",
        "        # aleviate for dropped columns\n",
        "        if medication in df.columns:\n",
        "            df[medication] = df[medication].map(lambda medication: parse_medication(medication))\n",
        "            \n",
        "    df.race = pd.Categorical(df.race).codes\n",
        "    df.gender = pd.Categorical(df.gender).codes\n",
        "    df['glyburide.metformin'] = pd.Categorical(df['glyburide.metformin']).codes\n",
        "\n",
        "    return df, text_features"
      ],
      "execution_count": 0,
      "outputs": []
    },
    {
      "metadata": {
        "id": "YV66B8sgl171",
        "colab_type": "code",
        "colab": {}
      },
      "cell_type": "code",
      "source": [
        "# function used to print the final results\n",
        "\n",
        "def print_scores(true, pred, pred_prob, verbose=True):\n",
        "    roc = roc_auc_score(true, pred_prob)\n",
        "    f1 = f1_score(true, pred)\n",
        "    \n",
        "    if verbose:\n",
        "        print('AUC:\\t', roc)\n",
        "        print('F1:\\t', f1)\n",
        "\n",
        "    return roc, f1"
      ],
      "execution_count": 0,
      "outputs": []
    },
    {
      "metadata": {
        "id": "ulF0T-bYkRJI",
        "colab_type": "code",
        "colab": {}
      },
      "cell_type": "code",
      "source": [
        "df_train, text_train = preprocess_dataframe(df_train)\n",
        "df_val, text_valid = preprocess_dataframe(df_val)\n",
        "df_test, text_test = preprocess_dataframe(df_test)"
      ],
      "execution_count": 0,
      "outputs": []
    },
    {
      "metadata": {
        "id": "Cqh2FRU9U-e3",
        "colab_type": "text"
      },
      "cell_type": "markdown",
      "source": [
        "We may check briefly our data, finding the ones that have the most importance. ExtraTreesClassifier is in practice commonly used for feature selection. "
      ]
    },
    {
      "metadata": {
        "id": "ospXHqpwUsMQ",
        "colab_type": "code",
        "outputId": "1f9c59eb-d536-4325-81da-dce514cdb4fe",
        "colab": {
          "base_uri": "https://localhost:8080/",
          "height": 347
        }
      },
      "cell_type": "code",
      "source": [
        "from sklearn.ensemble import ExtraTreesClassifier\n",
        "\n",
        "model = ExtraTreesClassifier(n_estimators=100)\n",
        "model.fit(df_train,y_train)\n",
        "\n",
        "#plot graph of feature importances for better visualization\n",
        "feat_importances = pd.Series(model.feature_importances_, index=df_train.columns)\n",
        "feat_importances.nlargest(10).plot(kind='barh')\n",
        "plt.show()"
      ],
      "execution_count": 0,
      "outputs": [
        {
          "output_type": "display_data",
          "data": {
            "image/png": "[encoded data removed]",
            "text/plain": [
              "<Figure size 576x396 with 1 Axes>"
            ]
          },
          "metadata": {
            "tags": []
          }
        }
      ]
    },
    {
      "metadata": {
        "id": "ld2xMvdjZ0l_",
        "colab_type": "text"
      },
      "cell_type": "markdown",
      "source": [
        "Some of the algorithms work slightly better with scaled features"
      ]
    },
    {
      "metadata": {
        "id": "QRa3qjZ2CDbJ",
        "colab_type": "code",
        "outputId": "e80fc911-a234-4319-b80f-4e4c0e2b6eea",
        "colab": {
          "base_uri": "https://localhost:8080/",
          "height": 163
        }
      },
      "cell_type": "code",
      "source": [
        "from sklearn.preprocessing import StandardScaler\n",
        "\n",
        "scaler = StandardScaler().fit(df_train)\n",
        "\n",
        "df_train_scaled = scaler.transform(df_train)\n",
        "df_val_scaled = scaler.transform(df_val)\n",
        "df_test_scaled = scaler.transform(df_test)"
      ],
      "execution_count": 0,
      "outputs": [
        {
          "output_type": "stream",
          "text": [
            "/usr/local/lib/python3.6/dist-packages/sklearn/preprocessing/data.py:645: DataConversionWarning: Data with input dtype int8, int64, float64 were all converted to float64 by StandardScaler.\n",
            "  return self.partial_fit(X, y)\n",
            "/usr/local/lib/python3.6/dist-packages/ipykernel_launcher.py:5: DataConversionWarning: Data with input dtype int8, int64, float64 were all converted to float64 by StandardScaler.\n",
            "  \"\"\"\n",
            "/usr/local/lib/python3.6/dist-packages/ipykernel_launcher.py:6: DataConversionWarning: Data with input dtype int8, int64, float64 were all converted to float64 by StandardScaler.\n",
            "  \n",
            "/usr/local/lib/python3.6/dist-packages/ipykernel_launcher.py:7: DataConversionWarning: Data with input dtype int8, int64, float64 were all converted to float64 by StandardScaler.\n",
            "  import sys\n"
          ],
          "name": "stderr"
        }
      ]
    },
    {
      "metadata": {
        "id": "GOID9SF3cVKB",
        "colab_type": "text"
      },
      "cell_type": "markdown",
      "source": [
        "## Best Features and Algorithm Selection without Text Data"
      ]
    },
    {
      "metadata": {
        "id": "k4P70rJum9YE",
        "colab_type": "text"
      },
      "cell_type": "markdown",
      "source": [
        "In this section, text features are not included in the training process . The Support Vector Machines with Radial Basis Kernel, the Gradient Boosting and Random Forest algorithms seems to have better results against others classifiers. Also, the Random Forest Classifer is being used for a feature selection procedure.\n",
        "\n",
        "The parameters shown here are the result of an exhausing grid search procedure."
      ]
    },
    {
      "metadata": {
        "id": "W_WuiiJ1YQ6K",
        "colab_type": "code",
        "colab": {}
      },
      "cell_type": "code",
      "source": [
        "from sklearn.ensemble import RandomForestClassifier\n",
        "from sklearn.feature_selection import RFE\n",
        "from sklearn.svm import SVC\n",
        "\n",
        "svc = SVC(C=10, kernel='rbf', gamma='scale', probability=True, class_weight='balanced').fit(df_train, y_train)\n",
        "xgb_model = xgb.XGBClassifier(objective=\"binary:logistic\", booster=\"gbtree\", eta=\"0.03\", max_depth=5, colsample_bytree=0.65, random_state=42).fit(df_train, y_train)\n",
        "\n",
        "estimator = RandomForestClassifier(n_estimators=200, max_depth=2, class_weight='balanced')\n",
        "selector = RFE(estimator, 25, step=1, verbose=0)\n",
        "selector = selector.fit(df_train, y_train)\n",
        "\n",
        "rf = RandomForestClassifier(n_estimators=200, max_depth=2, class_weight='balanced').fit(df_train_scaled[:, selector.support_], y_train)"
      ],
      "execution_count": 0,
      "outputs": []
    },
    {
      "metadata": {
        "id": "_wXeAW2lmEEp",
        "colab_type": "code",
        "colab": {}
      },
      "cell_type": "code",
      "source": [
        "predictions_svm = svc.predict(df_val)\n",
        "predictions_proba_svm = svc.predict_proba(df_val)[:, 1]\n",
        "\n",
        "predictions_rf = rf.predict(df_val_scaled[:, selector.support_])\n",
        "predictions_proba_rf = rf.predict_proba(df_val_scaled[:, selector.support_])[:, 1]\n",
        "\n",
        "predictions_xgb = xgb_model.predict(df_val)\n",
        "predictions_proba_xgb = xgb_model.predict_proba(df_val)[:, 1]"
      ],
      "execution_count": 0,
      "outputs": []
    },
    {
      "metadata": {
        "id": "HrEEx_kOk7fe",
        "colab_type": "code",
        "outputId": "9d10e8ff-0782-408e-d5ca-1650e3397c5b",
        "colab": {
          "base_uri": "https://localhost:8080/",
          "height": 199
        }
      },
      "cell_type": "code",
      "source": [
        "from sklearn.metrics import roc_auc_score, f1_score, classification_report, confusion_matrix\n",
        "\n",
        "print('SVM')\n",
        "print_scores(y_val, svc.predict(df_val), svc.predict_proba(df_val)[:, 1])\n",
        "print('RAN')\n",
        "print_scores(y_val, rf.predict(df_val_scaled[:, selector.support_]), rf.predict_proba(df_val_scaled[:, selector.support_])[:, 1])\n",
        "print('XGB')\n",
        "print_scores(y_val, xgb_model.predict(df_val), xgb_model.predict_proba(df_val)[:, 1])"
      ],
      "execution_count": 0,
      "outputs": [
        {
          "output_type": "stream",
          "text": [
            "SVM\n",
            "AUC:\t 0.6433164673076662\n",
            "F1:\t 0.5519591141396933\n",
            "RAN\n",
            "AUC:\t 0.6495991750517943\n",
            "F1:\t 0.5026666666666666\n",
            "XGB\n",
            "AUC:\t 0.6527507154043616\n",
            "F1:\t 0.4733382030679328\n"
          ],
          "name": "stdout"
        },
        {
          "output_type": "execute_result",
          "data": {
            "text/plain": [
              "(0.6527507154043616, 0.4733382030679328)"
            ]
          },
          "metadata": {
            "tags": []
          },
          "execution_count": 18
        }
      ]
    },
    {
      "metadata": {
        "id": "Ut-5Ddztm58D",
        "colab_type": "code",
        "colab": {}
      },
      "cell_type": "code",
      "source": [
        ""
      ],
      "execution_count": 0,
      "outputs": []
    },
    {
      "metadata": {
        "id": "AdysaBVcm02k",
        "colab_type": "text"
      },
      "cell_type": "markdown",
      "source": [
        "#### More results"
      ]
    },
    {
      "metadata": {
        "id": "ed15IVqV1g0a",
        "colab_type": "text"
      },
      "cell_type": "markdown",
      "source": [
        "We should mention that we also exeprimented with different classifiers, some of which managed to attain descent scores regarding ROC_AUC score, but failed in respect to the f1-score metric."
      ]
    },
    {
      "metadata": {
        "id": "6tMrjtV7ocf0",
        "colab_type": "code",
        "outputId": "cdd47dbf-843d-4327-deb0-92eda2bd4996",
        "colab": {
          "base_uri": "https://localhost:8080/",
          "height": 328
        }
      },
      "cell_type": "code",
      "source": [
        "from sklearn.linear_model import LogisticRegression \n",
        "from sklearn.model_selection import GridSearchCV\n",
        "\n",
        "C_params = [10**x for x in np.arange(-2.5,2.5,0.1)]\n",
        "param_grid = {\n",
        "        'penalty':['l1'], #lasso only\n",
        "        'C':C_params\n",
        "}\n",
        "\n",
        "clf = GridSearchCV(LogisticRegression(), param_grid, cv=5, scoring='roc_auc', verbose=3, n_jobs=10)\n",
        "clf.fit(df_train, y_train)"
      ],
      "execution_count": 0,
      "outputs": [
        {
          "output_type": "stream",
          "text": [
            "Fitting 5 folds for each of 50 candidates, totalling 250 fits\n"
          ],
          "name": "stdout"
        },
        {
          "output_type": "stream",
          "text": [
            "[Parallel(n_jobs=10)]: Using backend LokyBackend with 10 concurrent workers.\n",
            "[Parallel(n_jobs=10)]: Done  12 tasks      | elapsed:    9.2s\n",
            "[Parallel(n_jobs=10)]: Done 108 tasks      | elapsed:  1.6min\n",
            "[Parallel(n_jobs=10)]: Done 250 out of 250 | elapsed:  9.5min finished\n",
            "/usr/local/lib/python3.6/dist-packages/sklearn/linear_model/logistic.py:433: FutureWarning: Default solver will be changed to 'lbfgs' in 0.22. Specify a solver to silence this warning.\n",
            "  FutureWarning)\n"
          ],
          "name": "stderr"
        },
        {
          "output_type": "execute_result",
          "data": {
            "text/plain": [
              "GridSearchCV(cv=5, error_score='raise-deprecating',\n",
              "       estimator=LogisticRegression(C=1.0, class_weight=None, dual=False, fit_intercept=True,\n",
              "          intercept_scaling=1, max_iter=100, multi_class='warn',\n",
              "          n_jobs=None, penalty='l2', random_state=None, solver='warn',\n",
              "          tol=0.0001, verbose=0, warm_start=False),\n",
              "       fit_params=None, iid='warn', n_jobs=10,\n",
              "       param_grid={'penalty': ['l1'], 'C': [0.0031622776601683794, 0.003981071705534973, 0.005011872336272725, 0.006309573444801936, 0.00794328234724282, 0.01000000000000001, 0.012589254117941687, 0.01584893192461116, 0.01995262314968883, 0.025118864315095846, 0.03162277660168386, 0.03981071705534982, 0.05... 100.00000000000082, 125.8925411794179, 158.48931924611304, 199.52623149688992, 251.18864315096027]},\n",
              "       pre_dispatch='2*n_jobs', refit=True, return_train_score='warn',\n",
              "       scoring='roc_auc', verbose=3)"
            ]
          },
          "metadata": {
            "tags": []
          },
          "execution_count": 132
        }
      ]
    },
    {
      "metadata": {
        "id": "SkLEAScK1N3X",
        "colab_type": "code",
        "outputId": "2ea03935-ee03-4616-cbb8-0994a97f2bc3",
        "colab": {
          "base_uri": "https://localhost:8080/",
          "height": 108
        }
      },
      "cell_type": "code",
      "source": [
        "print('LogisticRegression')\n",
        "print_scores(y_val, clf.predict(df_val), clf.predict_proba(df_val)[:, 1])"
      ],
      "execution_count": 0,
      "outputs": [
        {
          "output_type": "stream",
          "text": [
            "LogisticRegression\n",
            "AUC prob:\t 0.6486792575048242\n",
            "AUC:\t\t 0.5716203608417063\n",
            "F1:\t\t 0.3547237076648842\n"
          ],
          "name": "stdout"
        },
        {
          "output_type": "execute_result",
          "data": {
            "text/plain": [
              "(0.6486792575048242, 0.5716203608417063, 0.3547237076648842)"
            ]
          },
          "metadata": {
            "tags": []
          },
          "execution_count": 136
        }
      ]
    },
    {
      "metadata": {
        "id": "fYaADB3CY3iu",
        "colab_type": "text"
      },
      "cell_type": "markdown",
      "source": [
        "## Process text data. Effect on the prediction."
      ]
    },
    {
      "metadata": {
        "id": "24Puo3eapk52",
        "colab_type": "text"
      },
      "cell_type": "markdown",
      "source": [
        "This section examines the text data influence on the model prediction. We should mention that the features used for this section correspond to both the diagnosis descriptions by the doctors, are well as the diagnosis themselves. Classic methods such as Bag of Words (BoF) and TF-IDF  are used to represent the text data. After a Non-Negative Matrix Factorization (NMF) is implemented as a latent representation of diagnosis text data. These latent factors stand for the text features. Furthermore, we experimented using an LSTM. We can expect the above methods to not work that well in our case, as we have a very limited size of data to handle. Many diseases and diagnosis are not adequately represented in the dataset. Finally, LSTM captures temporal relationships between successive words. As all the text data were aggregated, these relationships have been violated. We decided to test its performance however, as word embeddings, used by LSTM, may provide some useful results."
      ]
    },
    {
      "metadata": {
        "id": "BJFrNZD1uAf0",
        "colab_type": "text"
      },
      "cell_type": "markdown",
      "source": [
        "### stemming and vocab2number mapping"
      ]
    },
    {
      "metadata": {
        "id": "Xw0EJGR_ckz6",
        "colab_type": "code",
        "outputId": "6a0b32b3-64ce-4e6c-d839-bc8548f9da77",
        "colab": {
          "base_uri": "https://localhost:8080/",
          "height": 235
        }
      },
      "cell_type": "code",
      "source": [
        "import nltk\n",
        "nltk.download('wordnet')\n",
        "nltk.download('rslp')\n",
        "nltk.download('wordnet')\n",
        "nltk.download('rslp')\n",
        "nltk.download('stopwords')\n",
        "nltk.download('punkt')\n",
        "\n",
        "from nltk.corpus import stopwords\n",
        "import string\n",
        "\n",
        "from collections import Counter\n",
        "\n",
        "from nltk.stem import WordNetLemmatizer\n",
        "wordnet_lemmatizer = WordNetLemmatizer()\n",
        "\n",
        "from nltk.stem.porter import PorterStemmer\n",
        "porter_stemmer = PorterStemmer()\n",
        "\n",
        "def thorough_filter(words):\n",
        "    filtered_words = []\n",
        "    for word in words:\n",
        "        pun = []\n",
        "        for letter in word:\n",
        "            pun.append(letter in string.punctuation)\n",
        "        if not all(pun):\n",
        "            filtered_words.append(word)\n",
        "    return filtered_words\n",
        "\n",
        "def preprocess_document(document):\n",
        "    words = nltk.word_tokenize(document.lower())\n",
        "    filtered_words = [word for word in words if word not in stopwords.words('english') + list(string.punctuation)]\n",
        "    filtered_words = thorough_filter(filtered_words)\n",
        "    stemmed_words = [porter_stemmer.stem(wordnet_lemmatizer.lemmatize(word)) for word in filtered_words]\n",
        "    cnt = Counter(stemmed_words)\n",
        "    return cnt\n",
        "  \n",
        "preprocessed_features = [preprocess_document(text) for text in text_train]"
      ],
      "execution_count": 0,
      "outputs": [
        {
          "output_type": "stream",
          "text": [
            "[nltk_data] Downloading package wordnet to /root/nltk_data...\n",
            "[nltk_data]   Unzipping corpora/wordnet.zip.\n",
            "[nltk_data] Downloading package rslp to /root/nltk_data...\n",
            "[nltk_data]   Unzipping stemmers/rslp.zip.\n",
            "[nltk_data] Downloading package wordnet to /root/nltk_data...\n",
            "[nltk_data]   Package wordnet is already up-to-date!\n",
            "[nltk_data] Downloading package rslp to /root/nltk_data...\n",
            "[nltk_data]   Package rslp is already up-to-date!\n",
            "[nltk_data] Downloading package stopwords to /root/nltk_data...\n",
            "[nltk_data]   Unzipping corpora/stopwords.zip.\n",
            "[nltk_data] Downloading package punkt to /root/nltk_data...\n",
            "[nltk_data]   Unzipping tokenizers/punkt.zip.\n"
          ],
          "name": "stdout"
        }
      ]
    },
    {
      "metadata": {
        "id": "KLX2DKhwc8D6",
        "colab_type": "code",
        "colab": {}
      },
      "cell_type": "code",
      "source": [
        "total_counter = preprocessed_features[0]\n",
        "for i in range(1, len(preprocessed_features)):\n",
        "    total_counter += preprocessed_features[i]\n",
        "\n",
        "vocabulary = [word for word in total_counter]"
      ],
      "execution_count": 0,
      "outputs": []
    },
    {
      "metadata": {
        "id": "OuuyO8u1gB5W",
        "colab_type": "code",
        "colab": {}
      },
      "cell_type": "code",
      "source": [
        "vocabulary_mappings = {}\n",
        "number = 0\n",
        "\n",
        "for word in vocabulary:\n",
        "    vocabulary_mappings[word] = number\n",
        "    number += 1"
      ],
      "execution_count": 0,
      "outputs": []
    },
    {
      "metadata": {
        "id": "ncpVBOnxadUz",
        "colab_type": "text"
      },
      "cell_type": "markdown",
      "source": [
        "### Bag of Words (BoW)"
      ]
    },
    {
      "metadata": {
        "id": "SyxOUpvceGBC",
        "colab_type": "code",
        "colab": {}
      },
      "cell_type": "code",
      "source": [
        "freq_array = np.zeros((len(preprocessed_features), len(vocabulary)))\n",
        "\n",
        "for i in range(len(preprocessed_features)):\n",
        "    for j in range(len(vocabulary)):\n",
        "        freq_array[i,j] += preprocessed_features[i][vocabulary[j]] "
      ],
      "execution_count": 0,
      "outputs": []
    },
    {
      "metadata": {
        "id": "9VQRnJZYeGDq",
        "colab_type": "code",
        "colab": {}
      },
      "cell_type": "code",
      "source": [
        "import numpy as np\n",
        "from sklearn.decomposition import NMF\n",
        "\n",
        "model = NMF(n_components=2, init='random', random_state=0)\n",
        "\n",
        "# W size (number_of_documents, n_components)\n",
        "# H size (n_components, number_of_words)\n",
        "\n",
        "W = model.fit_transform(freq_array)\n",
        "H = model.components_"
      ],
      "execution_count": 0,
      "outputs": []
    },
    {
      "metadata": {
        "id": "hXtPpDpEeydf",
        "colab_type": "code",
        "colab": {}
      },
      "cell_type": "code",
      "source": [
        "from sklearn.model_selection import train_test_split\n",
        "\n",
        "X_1, X_2, y_1, y_2 = train_test_split(W, y_train, test_size=0.33, random_state=42)"
      ],
      "execution_count": 0,
      "outputs": []
    },
    {
      "metadata": {
        "id": "xnMLNByLfg3a",
        "colab_type": "code",
        "outputId": "537fa0c3-e414-412b-a3eb-3996f3fe8880",
        "colab": {
          "base_uri": "https://localhost:8080/",
          "height": 54
        }
      },
      "cell_type": "code",
      "source": [
        "from sklearn.ensemble import RandomForestClassifier\n",
        "\n",
        "clf = RandomForestClassifier(class_weight='balanced')\n",
        "clf.fit(X_1, y_1)\n",
        "preds = clf.predict(X_2)"
      ],
      "execution_count": 0,
      "outputs": [
        {
          "output_type": "stream",
          "text": [
            "/usr/local/lib/python3.6/dist-packages/sklearn/ensemble/forest.py:246: FutureWarning: The default value of n_estimators will change from 10 in version 0.20 to 100 in 0.22.\n",
            "  \"10 in version 0.20 to 100 in 0.22.\", FutureWarning)\n"
          ],
          "name": "stderr"
        }
      ]
    },
    {
      "metadata": {
        "id": "Q_JeXLTbgD1A",
        "colab_type": "code",
        "outputId": "9e977c43-95f6-44a1-fe3a-ab7e9de1033a",
        "colab": {
          "base_uri": "https://localhost:8080/",
          "height": 54
        }
      },
      "cell_type": "code",
      "source": [
        "print(len(np.where(preds == 0)[0]))\n",
        "print(len(np.where(preds == 1)[0]))"
      ],
      "execution_count": 0,
      "outputs": [
        {
          "output_type": "stream",
          "text": [
            "1295\n",
            "685\n"
          ],
          "name": "stdout"
        }
      ]
    },
    {
      "metadata": {
        "id": "iCpoo9keftbj",
        "colab_type": "code",
        "outputId": "ca0af577-26d5-43f9-d051-27dc0bf338f8",
        "colab": {
          "base_uri": "https://localhost:8080/",
          "height": 54
        }
      },
      "cell_type": "code",
      "source": [
        "from sklearn.metrics import roc_auc_score, f1_score\n",
        "\n",
        "print(roc_auc_score(y_2, preds))\n",
        "print(f1_score(y_2, preds))"
      ],
      "execution_count": 0,
      "outputs": [
        {
          "output_type": "stream",
          "text": [
            "0.4956679133925813\n",
            "0.36101578586135896\n"
          ],
          "name": "stdout"
        }
      ]
    },
    {
      "metadata": {
        "id": "VZp0uhv7ca4t",
        "colab_type": "text"
      },
      "cell_type": "markdown",
      "source": [
        "The results in this case are not promising at all (close to random)."
      ]
    },
    {
      "metadata": {
        "id": "Y-4ZT0vJPQOw",
        "colab_type": "text"
      },
      "cell_type": "markdown",
      "source": [
        "### TF-IDF"
      ]
    },
    {
      "metadata": {
        "id": "YAbbFOi9OGTy",
        "colab_type": "code",
        "colab": {}
      },
      "cell_type": "code",
      "source": [
        "for i in range(len(freq_array)):\n",
        "    freq_array[i, :] = freq_array[i, :] / freq_array.sum(axis=1)[i]"
      ],
      "execution_count": 0,
      "outputs": []
    },
    {
      "metadata": {
        "id": "W27HlcYCOGWj",
        "colab_type": "code",
        "colab": {}
      },
      "cell_type": "code",
      "source": [
        "non_zero_elements_per_row = np.zeros((len(freq_array[0])))\n",
        "\n",
        "for i in range(len(freq_array)):\n",
        "    for j in range(len(freq_array[0])):\n",
        "        if freq_array[i,j]>0.0:\n",
        "            non_zero_elements_per_row[j] += 1\n",
        "\n",
        "idf = np.log10(float(len(freq_array))/non_zero_elements_per_row)"
      ],
      "execution_count": 0,
      "outputs": []
    },
    {
      "metadata": {
        "id": "npP-HhGaOGZj",
        "colab_type": "code",
        "colab": {}
      },
      "cell_type": "code",
      "source": [
        "tf_idf = freq_array * idf"
      ],
      "execution_count": 0,
      "outputs": []
    },
    {
      "metadata": {
        "id": "HevP1N9ZPkRP",
        "colab_type": "code",
        "colab": {}
      },
      "cell_type": "code",
      "source": [
        "import numpy as np\n",
        "from sklearn.decomposition import NMF\n",
        "\n",
        "model = NMF(n_components=20, init='random', random_state=0)\n",
        "\n",
        "# W size (number_of_documents, n_components)\n",
        "# H size (n_components, number_of_words)\n",
        "\n",
        "W = model.fit_transform(freq_array)\n",
        "H = model.components_"
      ],
      "execution_count": 0,
      "outputs": []
    },
    {
      "metadata": {
        "id": "74YduDPtPkTm",
        "colab_type": "code",
        "colab": {}
      },
      "cell_type": "code",
      "source": [
        "from sklearn.model_selection import train_test_split\n",
        "\n",
        "X_1, X_2, y_1, y_2 = train_test_split(W, y_train, test_size=0.33, random_state=42)"
      ],
      "execution_count": 0,
      "outputs": []
    },
    {
      "metadata": {
        "id": "KyEaOmVpPkWG",
        "colab_type": "code",
        "outputId": "0673cd72-5ef7-4bcf-f91b-fd7a02e35748",
        "colab": {
          "base_uri": "https://localhost:8080/",
          "height": 54
        }
      },
      "cell_type": "code",
      "source": [
        "from sklearn.ensemble import RandomForestClassifier\n",
        "\n",
        "clf = RandomForestClassifier(class_weight='balanced')\n",
        "clf.fit(X_1, y_1)\n",
        "preds = clf.predict(X_2)"
      ],
      "execution_count": 0,
      "outputs": [
        {
          "output_type": "stream",
          "text": [
            "/usr/local/lib/python3.6/dist-packages/sklearn/ensemble/forest.py:246: FutureWarning: The default value of n_estimators will change from 10 in version 0.20 to 100 in 0.22.\n",
            "  \"10 in version 0.20 to 100 in 0.22.\", FutureWarning)\n"
          ],
          "name": "stderr"
        }
      ]
    },
    {
      "metadata": {
        "id": "ZOr0akbpPkY0",
        "colab_type": "code",
        "outputId": "7009c904-26b0-4358-c661-b9702acc55dc",
        "colab": {
          "base_uri": "https://localhost:8080/",
          "height": 54
        }
      },
      "cell_type": "code",
      "source": [
        "from sklearn.metrics import roc_auc_score, f1_score\n",
        "\n",
        "print(roc_auc_score(y_2, preds))\n",
        "print(f1_score(y_2, preds))"
      ],
      "execution_count": 0,
      "outputs": [
        {
          "output_type": "stream",
          "text": [
            "0.5140256665408504\n",
            "0.36481614996395095\n"
          ],
          "name": "stdout"
        }
      ]
    },
    {
      "metadata": {
        "id": "37uDx9h5cikU",
        "colab_type": "text"
      },
      "cell_type": "markdown",
      "source": [
        "Again, this method does not provide usedful results."
      ]
    },
    {
      "metadata": {
        "id": "PpHBaz1phdHY",
        "colab_type": "text"
      },
      "cell_type": "markdown",
      "source": [
        "### LSTM"
      ]
    },
    {
      "metadata": {
        "id": "T_tEbO5jiC72",
        "colab_type": "code",
        "colab": {}
      },
      "cell_type": "code",
      "source": [
        "def tokenize_features(document):\n",
        "    words = nltk.word_tokenize(document.lower())\n",
        "    filtered_words = [word for word in words if word not in stopwords.words('english') + list(string.punctuation)]\n",
        "    filtered_words = thorough_filter(filtered_words)\n",
        "    stemmed_words = [porter_stemmer.stem(wordnet_lemmatizer.lemmatize(word)) for word in filtered_words]\n",
        "    return stemmed_words\n",
        "  \n",
        "new_features = [[vocabulary_mappings[word] for word in tokenize_features(feature)] for feature in text_train]\n",
        "new_features = np.array(new_features)"
      ],
      "execution_count": 0,
      "outputs": []
    },
    {
      "metadata": {
        "id": "Na2keQiwlB9x",
        "colab_type": "code",
        "colab": {}
      },
      "cell_type": "code",
      "source": [
        "# preproccess validation and test the same way\n",
        "\n",
        "def process_same_text(features_text, vocabulary_mappings):\n",
        "    new_features = []\n",
        "    for feature in features_text:\n",
        "        new_feature = []\n",
        "        tokenized_feature = tokenize_features(feature)\n",
        "        for token in tokenized_feature:\n",
        "            if token in vocabulary_mappings:\n",
        "                new_feature.append(vocabulary_mappings[token])\n",
        "        new_features.append(new_feature)\n",
        "    return np.array(new_features)\n",
        "\n",
        "features_valid_n = process_same_text(text_valid, vocabulary_mappings)\n",
        "features_test_n = process_same_text(text_test, vocabulary_mappings)"
      ],
      "execution_count": 0,
      "outputs": []
    },
    {
      "metadata": {
        "id": "2YwWVeWvjGAD",
        "colab_type": "code",
        "colab": {}
      },
      "cell_type": "code",
      "source": [
        ""
      ],
      "execution_count": 0,
      "outputs": []
    },
    {
      "metadata": {
        "id": "l7MoQL8wixHi",
        "colab_type": "code",
        "outputId": "9ae218c9-f86f-4005-8cfe-86f11b3844a4",
        "colab": {
          "base_uri": "https://localhost:8080/",
          "height": 35
        }
      },
      "cell_type": "code",
      "source": [
        "from keras.preprocessing import sequence \n",
        "\n",
        "max_review_length = max(max(len(l) for l in new_features), max(len(l) for l in features_valid_n))\n",
        "new_features_padded = sequence.pad_sequences(new_features, maxlen=max_review_length) \n",
        "features_valid_padded = sequence.pad_sequences(features_valid_n, maxlen=max_review_length) \n",
        "features_test_padded = sequence.pad_sequences(features_test_n, maxlen=max_review_length) "
      ],
      "execution_count": 0,
      "outputs": [
        {
          "output_type": "stream",
          "text": [
            "Using TensorFlow backend.\n"
          ],
          "name": "stderr"
        }
      ]
    },
    {
      "metadata": {
        "id": "8xwSuk4CQlwl",
        "colab_type": "code",
        "colab": {}
      },
      "cell_type": "code",
      "source": [
        "from keras import backend as K\n",
        "\n",
        "def f1(y_true, y_pred):\n",
        "    def recall(y_true, y_pred):\n",
        "        \"\"\"Recall metric.\n",
        "\n",
        "        Only computes a batch-wise average of recall.\n",
        "\n",
        "        Computes the recall, a metric for multi-label classification of\n",
        "        how many relevant items are selected.\n",
        "        \"\"\"\n",
        "        true_positives = K.sum(K.round(K.clip(y_true * y_pred, 0, 1)))\n",
        "        possible_positives = K.sum(K.round(K.clip(y_true, 0, 1)))\n",
        "        recall = true_positives / (possible_positives + K.epsilon())\n",
        "        return recall\n",
        "\n",
        "    def precision(y_true, y_pred):\n",
        "        \"\"\"Precision metric.\n",
        "\n",
        "        Only computes a batch-wise average of precision.\n",
        "\n",
        "        Computes the precision, a metric for multi-label classification of\n",
        "        how many selected items are relevant.\n",
        "        \"\"\"\n",
        "        true_positives = K.sum(K.round(K.clip(y_true * y_pred, 0, 1)))\n",
        "        predicted_positives = K.sum(K.round(K.clip(y_pred, 0, 1)))\n",
        "        precision = true_positives / (predicted_positives + K.epsilon())\n",
        "        return precision\n",
        "    precision = precision(y_true, y_pred)\n",
        "    recall = recall(y_true, y_pred)\n",
        "    return 2*((precision*recall)/(precision+recall+K.epsilon()))"
      ],
      "execution_count": 0,
      "outputs": []
    },
    {
      "metadata": {
        "id": "zxuRt1K1ixJ_",
        "colab_type": "code",
        "outputId": "55f8c59f-d41b-4cdd-8ff1-60fcbce9563c",
        "colab": {
          "base_uri": "https://localhost:8080/",
          "height": 272
        }
      },
      "cell_type": "code",
      "source": [
        "from keras.models import Sequential\n",
        "from keras.layers import Dense, Activation, Embedding, LSTM\n",
        "from keras.layers import Bidirectional\n",
        "import keras \n",
        "\n",
        "embedding_vector_length = 25\n",
        "\n",
        "model = Sequential()\n",
        "model.add(Embedding(len(vocabulary), embedding_vector_length, input_length=max_review_length))\n",
        "model.add(Bidirectional(LSTM(10)))\n",
        "model.add(Dense(1, activation='sigmoid'))\n",
        "model.compile(loss='binary_crossentropy', optimizer='adam', metrics=[f1])\n",
        "print(model.summary())"
      ],
      "execution_count": 0,
      "outputs": [
        {
          "output_type": "stream",
          "text": [
            "_________________________________________________________________\n",
            "Layer (type)                 Output Shape              Param #   \n",
            "=================================================================\n",
            "embedding_8 (Embedding)      (None, 38, 25)            37075     \n",
            "_________________________________________________________________\n",
            "bidirectional_8 (Bidirection (None, 20)                2880      \n",
            "_________________________________________________________________\n",
            "dense_8 (Dense)              (None, 1)                 21        \n",
            "=================================================================\n",
            "Total params: 39,976\n",
            "Trainable params: 39,976\n",
            "Non-trainable params: 0\n",
            "_________________________________________________________________\n",
            "None\n"
          ],
          "name": "stdout"
        }
      ]
    },
    {
      "metadata": {
        "id": "2SV9rVxVixMe",
        "colab_type": "code",
        "outputId": "26861525-0051-4465-b768-830b7b6b7f05",
        "colab": {
          "base_uri": "https://localhost:8080/",
          "height": 417
        }
      },
      "cell_type": "code",
      "source": [
        "from keras.callbacks import ModelCheckpoint\n",
        "\n",
        "filepath=\"weights-{epoch:02d}-{val_f1:.3f}.hdf5\"\n",
        "checkpoint = ModelCheckpoint(filepath, monitor='val_f1', verbose=1, save_best_only=False)\n",
        "callbacks_list = [checkpoint]\n",
        "\n",
        "model.fit(new_features_padded, y_train, validation_data=(features_valid_padded, y_val), epochs=5, batch_size=64, callbacks=callbacks_list)"
      ],
      "execution_count": 0,
      "outputs": [
        {
          "output_type": "stream",
          "text": [
            "Train on 6000 samples, validate on 2000 samples\n",
            "Epoch 1/5\n",
            "6000/6000 [==============================] - 7s 1ms/step - loss: 0.6735 - f1: 0.0046 - val_loss: 0.6679 - val_f1: 0.0000e+00\n",
            "\n",
            "Epoch 00001: saving model to weights-01-0.000.hdf5\n",
            "Epoch 2/5\n",
            "6000/6000 [==============================] - 4s 642us/step - loss: 0.6615 - f1: 0.0520 - val_loss: 0.6586 - val_f1: 0.1085\n",
            "\n",
            "Epoch 00002: saving model to weights-02-0.109.hdf5\n",
            "Epoch 3/5\n",
            "6000/6000 [==============================] - 4s 648us/step - loss: 0.6519 - f1: 0.2199 - val_loss: 0.6564 - val_f1: 0.2985\n",
            "\n",
            "Epoch 00003: saving model to weights-03-0.299.hdf5\n",
            "Epoch 4/5\n",
            "6000/6000 [==============================] - 4s 641us/step - loss: 0.6409 - f1: 0.3770 - val_loss: 0.6610 - val_f1: 0.3611\n",
            "\n",
            "Epoch 00004: saving model to weights-04-0.361.hdf5\n",
            "Epoch 5/5\n",
            "6000/6000 [==============================] - 4s 647us/step - loss: 0.6329 - f1: 0.3726 - val_loss: 0.6685 - val_f1: 0.3305\n",
            "\n",
            "Epoch 00005: saving model to weights-05-0.331.hdf5\n"
          ],
          "name": "stdout"
        },
        {
          "output_type": "execute_result",
          "data": {
            "text/plain": [
              "<keras.callbacks.History at 0x7f96fe958320>"
            ]
          },
          "metadata": {
            "tags": []
          },
          "execution_count": 128
        }
      ]
    },
    {
      "metadata": {
        "id": "QLQn6SmdRZaW",
        "colab_type": "code",
        "outputId": "467df5a0-d60c-4f52-bc62-1fb12d63bb6d",
        "colab": {
          "base_uri": "https://localhost:8080/",
          "height": 54
        }
      },
      "cell_type": "code",
      "source": [
        "!ls"
      ],
      "execution_count": 0,
      "outputs": [
        {
          "output_type": "stream",
          "text": [
            "sample_data\t       weights-02-0.231.hdf5  weights-04-0.322.hdf5\n",
            "weights-01-0.000.hdf5  weights-03-0.269.hdf5  weights-05-0.385.hdf5\n"
          ],
          "name": "stdout"
        }
      ]
    },
    {
      "metadata": {
        "id": "5LrDNXs8RhAp",
        "colab_type": "code",
        "colab": {}
      },
      "cell_type": "code",
      "source": [
        "model.load_weights('weights-05-0.331.hdf5')"
      ],
      "execution_count": 0,
      "outputs": []
    },
    {
      "metadata": {
        "id": "oQZanBmjj9gR",
        "colab_type": "code",
        "colab": {}
      },
      "cell_type": "code",
      "source": [
        "preds = model.predict(features_valid_padded).reshape(-1)"
      ],
      "execution_count": 0,
      "outputs": []
    },
    {
      "metadata": {
        "colab_type": "code",
        "outputId": "5539d886-1d72-4ffa-efbf-a3d6433c887b",
        "id": "YMA14jmGdZ9c",
        "colab": {
          "base_uri": "https://localhost:8080/",
          "height": 272
        }
      },
      "cell_type": "code",
      "source": [
        "from sklearn.metrics import roc_auc_score, f1_score, classification_report, confusion_matrix\n",
        "\n",
        "threshold = 0.2\n",
        "\n",
        "print(roc_auc_score(y_val, preds))\n",
        "print(roc_auc_score(y_val, (preds > threshold).astype(np.int)))\n",
        "print()\n",
        "print(confusion_matrix(y_val, (preds > threshold).astype(np.int)))\n",
        "print(classification_report(y_val, (preds > threshold).astype(np.int)))"
      ],
      "execution_count": 0,
      "outputs": [
        {
          "output_type": "stream",
          "text": [
            "0.5951135191834935\n",
            "0.5323021132506783\n",
            "\n",
            "[[ 183 1024]\n",
            " [  69  724]]\n",
            "              precision    recall  f1-score   support\n",
            "\n",
            "           0       0.73      0.15      0.25      1207\n",
            "           1       0.41      0.91      0.57       793\n",
            "\n",
            "   micro avg       0.45      0.45      0.45      2000\n",
            "   macro avg       0.57      0.53      0.41      2000\n",
            "weighted avg       0.60      0.45      0.38      2000\n",
            "\n"
          ],
          "name": "stdout"
        }
      ]
    },
    {
      "metadata": {
        "id": "iYO1JNNHZrXW",
        "colab_type": "text"
      },
      "cell_type": "markdown",
      "source": [
        "## Combine result"
      ]
    },
    {
      "metadata": {
        "id": "rOhGN5v7tDO3",
        "colab_type": "text"
      },
      "cell_type": "markdown",
      "source": [
        "Having find different fairly good models, we attempt to properly combine them looking for an even better result. Also, because of the relatively low F1 score, an optimal desicion threshold for the acceptance of the positive class,with respect to the probability to be positive, is needed.Finally a Grid search over the importance of each classifier and different values of the threshold is performed."
      ]
    },
    {
      "metadata": {
        "id": "beCaZKCscdng",
        "colab_type": "code",
        "colab": {}
      },
      "cell_type": "code",
      "source": [
        "# preds, prediction_pro, prediction_pro_rf\n",
        "\n",
        "predictions = np.array([predictions_proba_svm, predictions_proba_rf, predictions_proba_xgb, preds]).T"
      ],
      "execution_count": 0,
      "outputs": []
    },
    {
      "metadata": {
        "id": "yBTCtcaicdqX",
        "colab_type": "code",
        "colab": {}
      },
      "cell_type": "code",
      "source": [
        "%%capture\n",
        "\n",
        "best_roc = -1\n",
        "best_f1 = -1\n",
        "\n",
        "for w1 in np.arange(0.1, 1, 0.1):\n",
        "    for w2 in np.arange(0, 1, 0.1):\n",
        "        for w3 in np.arange(0, 1, 0.1):\n",
        "            for w4 in np.arange(0, 1, 0.1):\n",
        "                weights = [w1, w2, w3, w4]\n",
        "                for threshold in np.arange(0, 1, 0.05):\n",
        "                    preds_new = np.sum((predictions * weights) , axis=1) / np.sum(weights)\n",
        "\n",
        "                    roc, f1 = print_scores(y_val, (preds_new > threshold).astype(np.int), preds_new, verbose=False)\n",
        "\n",
        "                    if roc > best_roc:\n",
        "                        best_roc = roc\n",
        "                        best_scores_roc = (roc, f1, weights, threshold)\n",
        "\n",
        "                    if f1 > best_f1:\n",
        "                        best_f1 = f1\n",
        "                        best_scores_f1 = (roc, f1, weights, threshold)"
      ],
      "execution_count": 0,
      "outputs": []
    },
    {
      "metadata": {
        "id": "8RPCy57qcdtR",
        "colab_type": "code",
        "colab": {}
      },
      "cell_type": "code",
      "source": [
        "print(best_scores_roc)\n",
        "print(best_scores_f1)"
      ],
      "execution_count": 0,
      "outputs": []
    },
    {
      "metadata": {
        "id": "5_dBpEqgpqUl",
        "colab_type": "text"
      },
      "cell_type": "markdown",
      "source": [
        "We set the best weights that we found for the f1-score. That is because, best weights for ROC_AUC curve tend to have bad results what the f1 score is concerned."
      ]
    },
    {
      "metadata": {
        "id": "_aQnGENYcdvm",
        "colab_type": "code",
        "colab": {}
      },
      "cell_type": "code",
      "source": [
        "weights = [0.4, 0.9, 0.3, 0.5] \n",
        "threshold = 0.4\n",
        "\n",
        "preds_new = np.sum((predictions * weights) , axis=1) / np.sum(weights)\n",
        "\n",
        "roc, f1 = print_scores(y_val, (preds_new > threshold).astype(np.int), preds_new, verbose=False)\n",
        "\n",
        "print(roc, f1)"
      ],
      "execution_count": 0,
      "outputs": []
    },
    {
      "metadata": {
        "id": "561DmPpavmEL",
        "colab_type": "text"
      },
      "cell_type": "markdown",
      "source": [
        "Based on the best results attained above, we examine the performance on the test set."
      ]
    },
    {
      "metadata": {
        "id": "sNBS3dDxvg5B",
        "colab_type": "code",
        "colab": {}
      },
      "cell_type": "code",
      "source": [
        "predictions_svm_test = svc.predict(df_test)\n",
        "predictions_proba_svm_test = svc.predict_proba(df_test)[:, 1]\n",
        "\n",
        "predictions_rf_test = rf.predict(df_test_scaled[:, selector.support_])\n",
        "predictions_proba_rf_test = rf.predict_proba(df_test_scaled[:, selector.support_])[:, 1]\n",
        "\n",
        "predictions_xgb_test = xgb_model.predict(df_test)\n",
        "predictions_proba_xgb_test = xgb_model.predict_proba(df_test)[:, 1]\n",
        "\n",
        "preds_test = model.predict(features_test_padded).reshape(-1)\n",
        "\n",
        "predictions_test = np.array([predictions_proba_svm_test, predictions_proba_rf_test, predictions_proba_xgb_test, preds_test]).T"
      ],
      "execution_count": 0,
      "outputs": []
    },
    {
      "metadata": {
        "id": "DyqV4w3xvg77",
        "colab_type": "code",
        "colab": {}
      },
      "cell_type": "code",
      "source": [
        "preds_new_test = np.sum((predictions_test * weights) , axis=1) / np.sum(weights)\n",
        "\n",
        "print_scores(y_test, (preds_new_test > threshold).astype(np.int), preds_new_test)"
      ],
      "execution_count": 0,
      "outputs": []
    },
    {
      "metadata": {
        "id": "_oOZXrhlemQg",
        "colab_type": "text"
      },
      "cell_type": "markdown",
      "source": [
        "The final results we got for the validation and test set are:\n",
        "\n",
        "* Validation set: \n",
        " - roc_score: 0.6690584 \n",
        " - f1_score:   0.5994424\n",
        "* Test set: \n",
        " - roc_score: 0.6645597\n",
        " - f1_score:   0.5983146"
      ]
    },
    {
      "metadata": {
        "id": "v3Uxz4gPxcAs",
        "colab_type": "text"
      },
      "cell_type": "markdown",
      "source": [
        "Finally, we plot the roc curves for the validation and the test set."
      ]
    },
    {
      "metadata": {
        "id": "bdVbFxA_vhAH",
        "colab_type": "code",
        "colab": {}
      },
      "cell_type": "code",
      "source": [
        "from sklearn.metrics import roc_curve, auc, precision_recall_curve\n",
        "\n",
        "def plot_roc_curve(true_values, predicted_values):\n",
        "    # compute ROC curve\n",
        "    fpr, tpr, thresholds_roc = roc_curve(true_values, predicted_values)\n",
        "    roc_auc = auc(fpr, tpr)\n",
        "    precision, recall, thresholds_prc = precision_recall_curve(true_values, predicted_values)\n",
        "\n",
        "    # compute precision-recall curve\n",
        "    auprc = auc(recall, precision)\n",
        "    precision_random, recall_random, thresholds_random = precision_recall_curve(true_values, np.random.rand(len(true_values)))\n",
        "    auprc_random = auc(recall_random, precision_random)\n",
        "    other_scores_validation = [roc_auc, auprc, auprc_random]\n",
        "\n",
        "    # plot curves\n",
        "    lw = 2\n",
        "    plt.plot(fpr, tpr, color='darkorange',\n",
        "                     lw=lw, label='ROC curve (area = %0.4f)' % roc_auc)\n",
        "    plt.plot([0, 1], [0, 1], color='navy', lw=lw, linestyle='--')\n",
        "    plt.xlim([0.0, 1.0])\n",
        "    plt.ylim([0.0, 1.05])\n",
        "    plt.xlabel('1 - Specificity / False Positive Rate')\n",
        "    plt.ylabel('Sensibility / True Positive Rate')\n",
        "    plt.legend(loc=\"lower right\")"
      ],
      "execution_count": 0,
      "outputs": []
    },
    {
      "metadata": {
        "id": "oO3ysupGvhSc",
        "colab_type": "code",
        "outputId": "db5f1e9c-ffd1-4aa9-e1cc-4710818f2273",
        "colab": {
          "base_uri": "https://localhost:8080/",
          "height": 458
        }
      },
      "cell_type": "code",
      "source": [
        "from pylab import rcParams\n",
        "\n",
        "%matplotlib inline\n",
        "\n",
        "rcParams['figure.figsize'] = 18, 7\n",
        "\n",
        "plt.figure()\n",
        "\n",
        "plt.subplot(1, 2, 1)\n",
        "plot_roc_curve(y_val, preds_new)\n",
        "plt.title('Receiver Operating Characteristic curve validation set')\n",
        "\n",
        "plt.subplot(1, 2, 2)\n",
        "plot_roc_curve(y_test, preds_new_test)\n",
        "plt.title('Receiver Operating Characteristic curve test set')\n",
        "\n",
        "plt.show()"
      ],
      "execution_count": 0,
      "outputs": [
        {
          "output_type": "display_data",
          "data": {
            "image/png": "[encoded data removed]",
            "text/plain": [
              "<Figure size 1296x504 with 2 Axes>"
            ]
          },
          "metadata": {
            "tags": []
          }
        }
      ]
    }
  ]
}